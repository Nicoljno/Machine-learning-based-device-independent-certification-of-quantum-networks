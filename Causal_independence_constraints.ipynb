{
 "cells": [
  {
   "cell_type": "code",
   "execution_count": 1,
   "metadata": {},
   "outputs": [],
   "source": [
    "import numpy as np\n",
    "import sympy as sp\n",
    "import itertools as it\n",
    "import string\n",
    "import pickle\n",
    "#import tensorflow as tf"
   ]
  },
  {
   "cell_type": "code",
   "execution_count": 2,
   "metadata": {},
   "outputs": [
    {
     "ename": "FileNotFoundError",
     "evalue": "[Errno 2] No such file or directory: 'final_mat_mes_constraints_cut_inflation_nparties_6_lev_6'",
     "output_type": "error",
     "traceback": [
      "\u001b[1;31m---------------------------------------------------------------------------\u001b[0m",
      "\u001b[1;31mFileNotFoundError\u001b[0m                         Traceback (most recent call last)",
      "\u001b[1;32m<ipython-input-2-71b92fc931ab>\u001b[0m in \u001b[0;36m<module>\u001b[1;34m\u001b[0m\n\u001b[0;32m      2\u001b[0m \u001b[0mlevel\u001b[0m \u001b[1;33m=\u001b[0m \u001b[1;36m6\u001b[0m\u001b[1;33m\u001b[0m\u001b[1;33m\u001b[0m\u001b[0m\n\u001b[0;32m      3\u001b[0m \u001b[0mfilename\u001b[0m \u001b[1;33m=\u001b[0m \u001b[1;34mf'final_mat_mes_constraints_cut_inflation_nparties_{len(parties)}_lev_{level}'\u001b[0m\u001b[1;33m\u001b[0m\u001b[1;33m\u001b[0m\u001b[0m\n\u001b[1;32m----> 4\u001b[1;33m \u001b[1;32mwith\u001b[0m \u001b[0mopen\u001b[0m\u001b[1;33m(\u001b[0m\u001b[0mfilename\u001b[0m\u001b[1;33m,\u001b[0m \u001b[1;34m'rb'\u001b[0m\u001b[1;33m)\u001b[0m \u001b[1;32mas\u001b[0m \u001b[0mf\u001b[0m\u001b[1;33m:\u001b[0m\u001b[1;33m\u001b[0m\u001b[1;33m\u001b[0m\u001b[0m\n\u001b[0m\u001b[0;32m      5\u001b[0m     \u001b[0mmes_diz\u001b[0m \u001b[1;33m=\u001b[0m \u001b[0mpickle\u001b[0m\u001b[1;33m.\u001b[0m\u001b[0mload\u001b[0m\u001b[1;33m(\u001b[0m\u001b[0mf\u001b[0m\u001b[1;33m)\u001b[0m\u001b[1;33m\u001b[0m\u001b[1;33m\u001b[0m\u001b[0m\n\u001b[0;32m      6\u001b[0m \u001b[0mlenght\u001b[0m\u001b[1;33m=\u001b[0m\u001b[0mlen\u001b[0m\u001b[1;33m(\u001b[0m\u001b[0mmes_diz\u001b[0m\u001b[1;33m[\u001b[0m\u001b[1;34m'A0'\u001b[0m\u001b[1;33m]\u001b[0m\u001b[1;33m[\u001b[0m\u001b[1;36m0\u001b[0m\u001b[1;33m]\u001b[0m\u001b[1;33m)\u001b[0m\u001b[1;33m\u001b[0m\u001b[1;33m\u001b[0m\u001b[0m\n",
      "\u001b[1;31mFileNotFoundError\u001b[0m: [Errno 2] No such file or directory: 'final_mat_mes_constraints_cut_inflation_nparties_6_lev_6'"
     ]
    }
   ],
   "source": [
    "parties = ['A','B','C','D','E','F']\n",
    "level = 6\n",
    "filename = f'final_mat_mes_constraints_cut_inflation_nparties_{len(parties)}_lev_{level}'\n",
    "with open(filename, 'rb') as f:\n",
    "    mes_diz = pickle.load(f)\n",
    "lenght=len(mes_diz['A0'][0])\n",
    "lenght"
   ]
  },
  {
   "cell_type": "code",
   "execution_count": 2,
   "metadata": {},
   "outputs": [],
   "source": [
    "#definizioni \n",
    "parties = ['A','B','C','D','E','F','G','H','I']\n",
    "originals = ['A', 'B', 'C']\n",
    "ind_part = ['AC','AD','AE','AF','AG','AH','AI','BD','BE','BF','BG','BH','BI','CE','CF','CG','CH','CI',\n",
    "            'DF','DG','DH','DI','EG','EH','EI','FH','FI','GI']\n",
    "inputs = ['0']\n",
    "operators = [''.join(k) for k in it.product(parties,inputs, repeat = 1)]\n",
    "originals_operators = [''.join(k) for k in it.product(originals,inputs, repeat = 1)]\n",
    "level = 6\n",
    "n=2"
   ]
  },
  {
   "cell_type": "code",
   "execution_count": 3,
   "metadata": {},
   "outputs": [],
   "source": [
    "filename = f'indici_dei_constraints_cut_inflation_nparties_{len(parties)}_lev_{level}'\n",
    "with open(filename, 'rb') as g:\n",
    "    index_keys = pickle.load(g)\n",
    "filename = f'matrici_dei_constraints_cut_inflation_nparties_{len(parties)}_lev_{level}'\n",
    "with open(filename, 'rb') as f:\n",
    "    dizionario_cons = pickle.load(f)\n",
    "diz = { index_keys[i] : dizionario_cons[i]  for i in range(len(index_keys)) }\n",
    "diz['']=diz['']/2."
   ]
  },
  {
   "cell_type": "code",
   "execution_count": 4,
   "metadata": {},
   "outputs": [],
   "source": [
    "n=2\n",
    "independent_monomials = []\n",
    "independent_monomials_highlight = {}\n",
    "index_indep_keys=[]\n",
    "for i in range(len(index_keys)):\n",
    "    char=[]\n",
    "    for x in ''.join(sorted(index_keys[i])):\n",
    "        if x.isalpha():\n",
    "            char.append(x)    \n",
    "    char = ''.join(sorted(list(set(char))))\n",
    "    for a in ind_part:\n",
    "        if a in char:\n",
    "            independent_monomials.append(index_keys[i])\n",
    "            #print(index_keys[i])\n",
    "            lista = [index_keys[i][j:j+n] for j in range(0, len(index_keys[i]), n) ]\n",
    "            #print(lista)\n",
    "            index_indep_keys=lista[0]\n",
    "            for k in range(len(lista)-1):\n",
    "                if(lista[k][0]+lista[k+1][0] not in ind_part):\n",
    "                    index_indep_keys = ''.join([index_indep_keys, lista[k+1]])\n",
    "                else:\n",
    "                    index_indep_keys = '*'.join([index_indep_keys, lista[k+1]])\n",
    "            independent_monomials_highlight[index_indep_keys]=diz[index_keys[i]]"
   ]
  },
  {
   "cell_type": "code",
   "execution_count": 5,
   "metadata": {},
   "outputs": [],
   "source": [
    "non_mes_diz={}\n",
    "mes_diz={}\n",
    "for i in range(len(diz.keys())):\n",
    "    if any(l+l in ''.join(sorted(index_keys[i])) for l in parties):\n",
    "        non_mes_diz[index_keys[i]]=diz[index_keys[i]]\n",
    "    else:\n",
    "        mes_diz[index_keys[i]]=diz[index_keys[i]]"
   ]
  },
  {
   "cell_type": "code",
   "execution_count": 6,
   "metadata": {},
   "outputs": [],
   "source": [
    "filename = f'matrici_mes_constraints_cut_inflation_no_ind_nparties_{len(parties)}_lev_{level}'\n",
    "with open(filename, 'wb') as f:\n",
    "    pickle.dump(mes_diz, f)\n",
    "filename = f'matrici_non_mes_constraints_cut_inflation_no_ind_nparties_{len(parties)}_lev_{level}'\n",
    "with open(filename, 'wb') as f:\n",
    "    pickle.dump(non_mes_diz, f)"
   ]
  },
  {
   "cell_type": "code",
   "execution_count": 7,
   "metadata": {},
   "outputs": [
    {
     "data": {
      "text/plain": [
       "dict_keys(['', 'A0', 'B0', 'C0', 'D0', 'E0', 'F0', 'G0', 'H0', 'I0', 'A0B0', 'A0C0', 'A0D0', 'A0E0', 'A0F0', 'A0G0', 'A0H0', 'A0I0', 'B0C0', 'B0D0', 'B0E0', 'B0F0', 'B0G0', 'B0H0', 'B0I0', 'C0D0', 'C0E0', 'C0F0', 'C0G0', 'C0H0', 'C0I0', 'D0E0', 'D0F0', 'D0G0', 'D0H0', 'D0I0', 'E0F0', 'E0G0', 'E0H0', 'E0I0', 'F0G0', 'F0H0', 'F0I0', 'G0H0', 'G0I0', 'H0I0', 'A0B0C0', 'A0B0D0', 'A0B0E0', 'A0B0F0', 'A0B0G0', 'A0B0H0', 'A0B0I0', 'A0C0D0', 'A0C0E0', 'A0C0F0', 'A0C0G0', 'A0C0H0', 'A0C0I0', 'A0D0E0', 'A0D0F0', 'A0D0G0', 'A0D0H0', 'A0D0I0', 'A0E0F0', 'A0E0G0', 'A0E0H0', 'A0E0I0', 'A0F0G0', 'A0F0H0', 'A0F0I0', 'A0G0H0', 'A0G0I0', 'A0H0I0', 'B0C0D0', 'B0C0E0', 'B0C0F0', 'B0C0G0', 'B0C0H0', 'B0C0I0', 'B0D0E0', 'B0D0F0', 'B0D0G0', 'B0D0H0', 'B0D0I0', 'B0E0F0', 'B0E0G0', 'B0E0H0', 'B0E0I0', 'B0F0G0', 'B0F0H0', 'B0F0I0', 'B0G0H0', 'B0G0I0', 'B0H0I0', 'C0D0E0', 'C0D0F0', 'C0D0G0', 'C0D0H0', 'C0D0I0', 'C0E0F0', 'C0E0G0', 'C0E0H0', 'C0E0I0', 'C0F0G0', 'C0F0H0', 'C0F0I0', 'C0G0H0', 'C0G0I0', 'C0H0I0', 'D0E0F0', 'D0E0G0', 'D0E0H0', 'D0E0I0', 'D0F0G0', 'D0F0H0', 'D0F0I0', 'D0G0H0', 'D0G0I0', 'D0H0I0', 'E0F0G0', 'E0F0H0', 'E0F0I0', 'E0G0H0', 'E0G0I0', 'E0H0I0', 'F0G0H0', 'F0G0I0', 'F0H0I0', 'G0H0I0', 'A0B0C0D0', 'A0B0C0E0', 'A0B0C0F0', 'A0B0C0G0', 'A0B0C0H0', 'A0B0C0I0', 'A0B0D0E0', 'A0B0D0F0', 'A0B0D0G0', 'A0B0D0H0', 'A0B0D0I0', 'A0B0E0F0', 'A0B0E0G0', 'A0B0E0H0', 'A0B0E0I0', 'A0B0F0G0', 'A0B0F0H0', 'A0B0F0I0', 'A0B0G0H0', 'A0B0G0I0', 'A0B0H0I0', 'A0C0D0E0', 'A0C0D0F0', 'A0C0D0G0', 'A0C0D0H0', 'A0C0D0I0', 'A0C0E0F0', 'A0C0E0G0', 'A0C0E0H0', 'A0C0E0I0', 'A0C0F0G0', 'A0C0F0H0', 'A0C0F0I0', 'A0C0G0H0', 'A0C0G0I0', 'A0C0H0I0', 'A0D0E0F0', 'A0D0E0G0', 'A0D0E0H0', 'A0D0E0I0', 'A0D0F0G0', 'A0D0F0H0', 'A0D0F0I0', 'A0D0G0H0', 'A0D0G0I0', 'A0D0H0I0', 'A0E0F0G0', 'A0E0F0H0', 'A0E0F0I0', 'A0E0G0H0', 'A0E0G0I0', 'A0E0H0I0', 'A0F0G0H0', 'A0F0G0I0', 'A0F0H0I0', 'A0G0H0I0', 'B0C0D0E0', 'B0C0D0F0', 'B0C0D0G0', 'B0C0D0H0', 'B0C0D0I0', 'B0C0E0F0', 'B0C0E0G0', 'B0C0E0H0', 'B0C0E0I0', 'B0C0F0G0', 'B0C0F0H0', 'B0C0F0I0', 'B0C0G0H0', 'B0C0G0I0', 'B0C0H0I0', 'B0D0E0F0', 'B0D0E0G0', 'B0D0E0H0', 'B0D0E0I0', 'B0D0F0G0', 'B0D0F0H0', 'B0D0F0I0', 'B0D0G0H0', 'B0D0G0I0', 'B0D0H0I0', 'B0E0F0G0', 'B0E0F0H0', 'B0E0F0I0', 'B0E0G0H0', 'B0E0G0I0', 'B0E0H0I0', 'B0F0G0H0', 'B0F0G0I0', 'B0F0H0I0', 'B0G0H0I0', 'C0D0E0F0', 'C0D0E0G0', 'C0D0E0H0', 'C0D0E0I0', 'C0D0F0G0', 'C0D0F0H0', 'C0D0F0I0', 'C0D0G0H0', 'C0D0G0I0', 'C0D0H0I0', 'C0E0F0G0', 'C0E0F0H0', 'C0E0F0I0', 'C0E0G0H0', 'C0E0G0I0', 'C0E0H0I0', 'C0F0G0H0', 'C0F0G0I0', 'C0F0H0I0', 'C0G0H0I0', 'D0E0F0G0', 'D0E0F0H0', 'D0E0F0I0', 'D0E0G0H0', 'D0E0G0I0', 'D0E0H0I0', 'D0F0G0H0', 'D0F0G0I0', 'D0F0H0I0', 'D0G0H0I0', 'E0F0G0H0', 'E0F0G0I0', 'E0F0H0I0', 'E0G0H0I0', 'F0G0H0I0', 'A0B0C0D0E0', 'A0B0C0D0F0', 'A0B0C0D0G0', 'A0B0C0D0H0', 'A0B0C0D0I0', 'A0B0C0E0F0', 'A0B0C0E0G0', 'A0B0C0E0H0', 'A0B0C0E0I0', 'A0B0C0F0G0', 'A0B0C0F0H0', 'A0B0C0F0I0', 'A0B0C0G0H0', 'A0B0C0G0I0', 'A0B0C0H0I0', 'A0B0D0E0F0', 'A0B0D0E0G0', 'A0B0D0E0H0', 'A0B0D0E0I0', 'A0B0D0F0G0', 'A0B0D0F0H0', 'A0B0D0F0I0', 'A0B0D0G0H0', 'A0B0D0G0I0', 'A0B0D0H0I0', 'A0B0E0F0G0', 'A0B0E0F0H0', 'A0B0E0F0I0', 'A0B0E0G0H0', 'A0B0E0G0I0', 'A0B0E0H0I0', 'A0B0F0G0H0', 'A0B0F0G0I0', 'A0B0F0H0I0', 'A0B0G0H0I0', 'A0C0D0E0F0', 'A0C0D0E0G0', 'A0C0D0E0H0', 'A0C0D0E0I0', 'A0C0D0F0G0', 'A0C0D0F0H0', 'A0C0D0F0I0', 'A0C0D0G0H0', 'A0C0D0G0I0', 'A0C0D0H0I0', 'A0C0E0F0G0', 'A0C0E0F0H0', 'A0C0E0F0I0', 'A0C0E0G0H0', 'A0C0E0G0I0', 'A0C0E0H0I0', 'A0C0F0G0H0', 'A0C0F0G0I0', 'A0C0F0H0I0', 'A0C0G0H0I0', 'A0D0E0F0G0', 'A0D0E0F0H0', 'A0D0E0F0I0', 'A0D0E0G0H0', 'A0D0E0G0I0', 'A0D0E0H0I0', 'A0D0F0G0H0', 'A0D0F0G0I0', 'A0D0F0H0I0', 'A0D0G0H0I0', 'A0E0F0G0H0', 'A0E0F0G0I0', 'A0E0F0H0I0', 'A0E0G0H0I0', 'A0F0G0H0I0', 'B0C0D0E0F0', 'B0C0D0E0G0', 'B0C0D0E0H0', 'B0C0D0E0I0', 'B0C0D0F0G0', 'B0C0D0F0H0', 'B0C0D0F0I0', 'B0C0D0G0H0', 'B0C0D0G0I0', 'B0C0D0H0I0', 'B0C0E0F0G0', 'B0C0E0F0H0', 'B0C0E0F0I0', 'B0C0E0G0H0', 'B0C0E0G0I0', 'B0C0E0H0I0', 'B0C0F0G0H0', 'B0C0F0G0I0', 'B0C0F0H0I0', 'B0C0G0H0I0', 'B0D0E0F0G0', 'B0D0E0F0H0', 'B0D0E0F0I0', 'B0D0E0G0H0', 'B0D0E0G0I0', 'B0D0E0H0I0', 'B0D0F0G0H0', 'B0D0F0G0I0', 'B0D0F0H0I0', 'B0D0G0H0I0', 'B0E0F0G0H0', 'B0E0F0G0I0', 'B0E0F0H0I0', 'B0E0G0H0I0', 'B0F0G0H0I0', 'C0D0E0F0G0', 'C0D0E0F0H0', 'C0D0E0F0I0', 'C0D0E0G0H0', 'C0D0E0G0I0', 'C0D0E0H0I0', 'C0D0F0G0H0', 'C0D0F0G0I0', 'C0D0F0H0I0', 'C0D0G0H0I0', 'C0E0F0G0H0', 'C0E0F0G0I0', 'C0E0F0H0I0', 'C0E0G0H0I0', 'C0F0G0H0I0', 'D0E0F0G0H0', 'D0E0F0G0I0', 'D0E0F0H0I0', 'D0E0G0H0I0', 'D0F0G0H0I0', 'E0F0G0H0I0', 'A0B0C0D0E0F0', 'A0B0C0D0E0G0', 'A0B0C0D0E0H0', 'A0B0C0D0E0I0', 'A0B0C0D0F0G0', 'A0B0C0D0F0H0', 'A0B0C0D0F0I0', 'A0B0C0D0G0H0', 'A0B0C0D0G0I0', 'A0B0C0D0H0I0', 'A0B0C0E0F0G0', 'A0B0C0E0F0H0', 'A0B0C0E0F0I0', 'A0B0C0E0G0H0', 'A0B0C0E0G0I0', 'A0B0C0E0H0I0', 'A0B0C0F0G0H0', 'A0B0C0F0G0I0', 'A0B0C0F0H0I0', 'A0B0C0G0H0I0', 'A0B0D0E0F0G0', 'A0B0D0E0F0H0', 'A0B0D0E0F0I0', 'A0B0D0E0G0H0', 'A0B0D0E0G0I0', 'A0B0D0E0H0I0', 'A0B0D0F0G0H0', 'A0B0D0F0G0I0', 'A0B0D0F0H0I0', 'A0B0D0G0H0I0', 'A0B0E0F0G0H0', 'A0B0E0F0G0I0', 'A0B0E0F0H0I0', 'A0B0E0G0H0I0', 'A0B0F0G0H0I0', 'A0C0D0E0F0G0', 'A0C0D0E0F0H0', 'A0C0D0E0F0I0', 'A0C0D0E0G0H0', 'A0C0D0E0G0I0', 'A0C0D0E0H0I0', 'A0C0D0F0G0H0', 'A0C0D0F0G0I0', 'A0C0D0F0H0I0', 'A0C0D0G0H0I0', 'A0C0E0F0G0H0', 'A0C0E0F0G0I0', 'A0C0E0F0H0I0', 'A0C0E0G0H0I0', 'A0C0F0G0H0I0', 'A0D0E0F0G0H0', 'A0D0E0F0G0I0', 'A0D0E0F0H0I0', 'A0D0E0G0H0I0', 'A0D0F0G0H0I0', 'A0E0F0G0H0I0', 'B0C0D0E0F0G0', 'B0C0D0E0F0H0', 'B0C0D0E0F0I0', 'B0C0D0E0G0H0', 'B0C0D0E0G0I0', 'B0C0D0E0H0I0', 'B0C0D0F0G0H0', 'B0C0D0F0G0I0', 'B0C0D0F0H0I0', 'B0C0D0G0H0I0', 'B0C0E0F0G0H0', 'B0C0E0F0G0I0', 'B0C0E0F0H0I0', 'B0C0E0G0H0I0', 'B0C0F0G0H0I0', 'B0D0E0F0G0H0', 'B0D0E0F0G0I0', 'B0D0E0F0H0I0', 'B0D0E0G0H0I0', 'B0D0F0G0H0I0', 'B0E0F0G0H0I0', 'C0D0E0F0G0H0', 'C0D0E0F0G0I0', 'C0D0E0F0H0I0', 'C0D0E0G0H0I0', 'C0D0F0G0H0I0', 'C0E0F0G0H0I0', 'D0E0F0G0H0I0', 'A0B0C0D0E0F0G0', 'A0B0C0D0E0F0H0', 'A0B0C0D0E0F0I0', 'A0B0C0D0E0G0H0', 'A0B0C0D0E0G0I0', 'A0B0C0D0E0H0I0', 'A0B0C0D0F0G0H0', 'A0B0C0D0F0G0I0', 'A0B0C0D0F0H0I0', 'A0B0C0D0G0H0I0', 'A0B0C0E0F0G0H0', 'A0B0C0E0F0G0I0', 'A0B0C0E0F0H0I0', 'A0B0C0E0G0H0I0', 'A0B0C0F0G0H0I0', 'A0B0D0E0F0G0H0', 'A0B0D0E0F0G0I0', 'A0B0D0E0F0H0I0', 'A0B0D0E0G0H0I0', 'A0B0D0F0G0H0I0', 'A0B0E0F0G0H0I0', 'A0C0D0E0F0G0H0', 'A0C0D0E0F0G0I0', 'A0C0D0E0F0H0I0', 'A0C0D0E0G0H0I0', 'A0C0D0F0G0H0I0', 'A0C0E0F0G0H0I0', 'A0D0E0F0G0H0I0', 'B0C0D0E0F0G0H0', 'B0C0D0E0F0G0I0', 'B0C0D0E0F0H0I0', 'B0C0D0E0G0H0I0', 'B0C0D0F0G0H0I0', 'B0C0E0F0G0H0I0', 'B0D0E0F0G0H0I0', 'C0D0E0F0G0H0I0', 'A0B0C0D0E0F0G0H0', 'A0B0C0D0E0F0G0I0', 'A0B0C0D0E0F0H0I0', 'A0B0C0D0E0G0H0I0', 'A0B0C0D0F0G0H0I0', 'A0B0C0E0F0G0H0I0', 'A0B0D0E0F0G0H0I0', 'A0C0D0E0F0G0H0I0', 'B0C0D0E0F0G0H0I0', 'A0B0C0D0E0F0G0H0I0'])"
      ]
     },
     "execution_count": 7,
     "metadata": {},
     "output_type": "execute_result"
    }
   ],
   "source": [
    "mes_diz.keys()"
   ]
  },
  {
   "cell_type": "code",
   "execution_count": 8,
   "metadata": {},
   "outputs": [],
   "source": [
    "for i in independent_monomials:\n",
    "    if i in list(non_mes_diz.keys()):\n",
    "        non_mes_diz.pop(i)"
   ]
  },
  {
   "cell_type": "code",
   "execution_count": 9,
   "metadata": {},
   "outputs": [],
   "source": [
    "for i in independent_monomials:\n",
    "    if i in list(mes_diz.keys()):\n",
    "        mes_diz.pop(i)"
   ]
  },
  {
   "cell_type": "code",
   "execution_count": 10,
   "metadata": {},
   "outputs": [],
   "source": [
    "def expected_value(p, operator, parties, inputs):\n",
    "    n=2\n",
    "    suffix_operators={}\n",
    "    suffix=0\n",
    "    e_value=0\n",
    "    inputs_voc={}\n",
    "    for i in range(len(inputs)):\n",
    "        inputs_voc[inputs[i]]=i \n",
    "    for i in range(len(parties)):\n",
    "        suffix_operators[parties[len(parties)-1-i]]=i\n",
    "    list_operators = [operator[j:j+1] for j in range(0, len(operator), n) ]\n",
    "    list_inputs = [operator[j+1:j+2] for j in range(0, len(operator), n) ]\n",
    "    #print(list_operators)\n",
    "    #print(list_inputs)\n",
    "    if(len(inputs)>1):\n",
    "        for i in range(len(list_operators)):\n",
    "            suffix+=2**(len(parties)+suffix_operators[list_operators[i]])*inputs_voc[list_inputs[i]]\n",
    "        #print(suffix)\n",
    "    for i in range(2**len(parties)):\n",
    "        binar=bin(i+2**(len(parties)))[3:]\n",
    "        coeff = 0\n",
    "        for j in list_operators:\n",
    "            coeff+=int(binar[len(parties)-1-suffix_operators[j]])\n",
    "        e_value+=(-1)**(coeff)*p[suffix+i]\n",
    "    return e_value"
   ]
  },
  {
   "cell_type": "code",
   "execution_count": 11,
   "metadata": {},
   "outputs": [],
   "source": [
    "def causal_indep_prod(y_pred, train, operator, parties, inputs, mes_diz, non_mes_diz, indep_cons_diz, non_mes_element):\n",
    "    prod=list(operator.split('*'))\n",
    "    tmp=1.\n",
    "    print(prod)\n",
    "    for j in prod:\n",
    "        if j in mes_diz.keys():\n",
    "            #print(j, 1)\n",
    "            tmp*=expected_value(y_pred[0:64], j, parties, inputs)\n",
    "        elif j in non_mes_diz.keys():\n",
    "            #print(j, 2)\n",
    "            tmp*=y_pred[64+non_mes_element[j]]+train[non_mes_element[j]]\n",
    "    return(tmp)"
   ]
  },
  {
   "cell_type": "code",
   "execution_count": 12,
   "metadata": {},
   "outputs": [],
   "source": [
    "filename = f'matrici_mes_constraints_cut_inflation_nparties_{len(parties)}_lev_{level}'\n",
    "with open(filename, 'wb') as f:\n",
    "    pickle.dump(mes_diz, f)\n",
    "filename = f'matrici_non_mes_constraints_cut_inflation_nparties_{len(parties)}_lev_{level}'\n",
    "with open(filename, 'wb') as f:\n",
    "    pickle.dump(non_mes_diz, f)\n",
    "filename = f'matrici_indep_constraints_cut_inflation_nparties_{len(parties)}_lev_{level}'\n",
    "with open(filename, 'wb') as f:\n",
    "    pickle.dump(independent_monomials_highlight, f)"
   ]
  },
  {
   "cell_type": "code",
   "execution_count": null,
   "metadata": {},
   "outputs": [],
   "source": []
  },
  {
   "cell_type": "code",
   "execution_count": null,
   "metadata": {},
   "outputs": [],
   "source": []
  }
 ],
 "metadata": {
  "kernelspec": {
   "display_name": "Python 3",
   "language": "python",
   "name": "python3"
  },
  "language_info": {
   "codemirror_mode": {
    "name": "ipython",
    "version": 3
   },
   "file_extension": ".py",
   "mimetype": "text/x-python",
   "name": "python",
   "nbconvert_exporter": "python",
   "pygments_lexer": "ipython3",
   "version": "3.8.5"
  }
 },
 "nbformat": 4,
 "nbformat_minor": 4
}
