{
 "cells": [
  {
   "cell_type": "code",
   "execution_count": 1,
   "metadata": {},
   "outputs": [],
   "source": [
    "import numpy as np\n",
    "import sympy as sp\n",
    "import itertools as it\n",
    "import string\n",
    "import pickle"
   ]
  },
  {
   "cell_type": "code",
   "execution_count": 2,
   "metadata": {},
   "outputs": [
    {
     "name": "stdout",
     "output_type": "stream",
     "text": [
      "0\n",
      "1\n",
      "2\n",
      "0\n",
      "1\n"
     ]
    }
   ],
   "source": [
    "#definizioni\n",
    "part_diz = { 'A' : 3, 'B' : 2}\n",
    "ind_part = []\n",
    "parties = list(part_diz.keys())\n",
    "inputs = [part_diz[i] for i in parties]\n",
    "max_in=[str(i) for i in range(max(inputs))]\n",
    "operators=[]\n",
    "for i in list(part_diz.keys()):\n",
    "    tmp=[]\n",
    "    for l in range(part_diz[i]):\n",
    "        tmp.append(str(l))\n",
    "        print(str(l))\n",
    "    operators+=[''.join(k) for k in it.product(i, tmp, repeat = 1)]\n",
    "\n",
    "level = 1"
   ]
  },
  {
   "cell_type": "code",
   "execution_count": 3,
   "metadata": {},
   "outputs": [],
   "source": [
    "blabla=[[i for i in range(j)] for j in inputs]"
   ]
  },
  {
   "cell_type": "code",
   "execution_count": 4,
   "metadata": {},
   "outputs": [
    {
     "data": {
      "text/plain": [
       "[[0, 1, 2], [0, 1]]"
      ]
     },
     "execution_count": 4,
     "metadata": {},
     "output_type": "execute_result"
    }
   ],
   "source": [
    "blabla"
   ]
  },
  {
   "cell_type": "code",
   "execution_count": 5,
   "metadata": {},
   "outputs": [],
   "source": [
    "filename = f'indici_dei_constraints_instrumental_lev_{level}'\n",
    "with open(filename, 'rb') as g:\n",
    "    index_keys = pickle.load(g)\n",
    "filename = f'matrici_dei_constraints_instrumental_lev_{level}'\n",
    "with open(filename, 'rb') as f:\n",
    "    dizionario_cons = pickle.load(f)\n",
    "diz = { index_keys[i] : dizionario_cons[i]  for i in range(len(index_keys)) }\n",
    "diz['']=diz['']/2."
   ]
  },
  {
   "cell_type": "code",
   "execution_count": 6,
   "metadata": {},
   "outputs": [],
   "source": [
    "n=2\n",
    "independent_monomials = []\n",
    "independent_monomials_highlight = {}\n",
    "index_indep_keys=[]\n",
    "for i in range(len(index_keys)):\n",
    "    char=[]\n",
    "    for x in ''.join(sorted(index_keys[i])):\n",
    "        if x.isalpha():\n",
    "            char.append(x)\n",
    "    char = ''.join(sorted(list(set(char))))\n",
    "    for a in ind_part:\n",
    "        if a in char:\n",
    "            independent_monomials.append(index_keys[i])\n",
    "            #print(index_keys[i])\n",
    "            lista = [index_keys[i][j:j+n] for j in range(0, len(index_keys[i]), n) ]\n",
    "            #print(lista)\n",
    "            index_indep_keys=lista[0]\n",
    "            for k in range(len(lista)-1):\n",
    "                if(lista[k][0]+lista[k+1][0] not in ind_part):\n",
    "                    index_indep_keys = ''.join([index_indep_keys, lista[k+1]])\n",
    "                else:\n",
    "                    index_indep_keys = '*'.join([index_indep_keys, lista[k+1]])\n",
    "            independent_monomials_highlight[index_indep_keys]=diz[index_keys[i]]"
   ]
  },
  {
   "cell_type": "code",
   "execution_count": 7,
   "metadata": {},
   "outputs": [],
   "source": [
    "non_mes_diz={}\n",
    "mes_diz={}\n",
    "for i in range(len(diz.keys())):\n",
    "    if any(l+l in ''.join(sorted(index_keys[i])) for l in parties):\n",
    "        non_mes_diz[index_keys[i]]=diz[index_keys[i]]\n",
    "    else:\n",
    "        mes_diz[index_keys[i]]=diz[index_keys[i]]"
   ]
  },
  {
   "cell_type": "code",
   "execution_count": 8,
   "metadata": {},
   "outputs": [],
   "source": [
    "filename = f'matrici_mes_constraints_instrumental_lev_{level}'\n",
    "with open(filename, 'wb') as f:\n",
    "    pickle.dump(mes_diz, f)\n",
    "filename = f'matrici_non_mes_constraints_instrumental_lev_{level}'\n",
    "with open(filename, 'wb') as f:\n",
    "    pickle.dump(non_mes_diz, f)"
   ]
  },
  {
   "cell_type": "code",
   "execution_count": 9,
   "metadata": {},
   "outputs": [],
   "source": [
    "def expected_value(p, operator, parties, inputs):\n",
    "    n=2\n",
    "    suffix_operators={}\n",
    "    suffix=0\n",
    "    e_value=0\n",
    "    inputs_voc={}\n",
    "    for i in range(len(inputs)):\n",
    "        inputs_voc[inputs[i]]=i \n",
    "    for i in range(len(parties)):\n",
    "        suffix_operators[parties[len(parties)-1-i]]=i\n",
    "    list_operators = [operator[j:j+1] for j in range(0, len(operator), n) ]\n",
    "    list_inputs = [operator[j+1:j+2] for j in range(0, len(operator), n) ]\n",
    "    if(len(inputs)>1):\n",
    "        for i in range(len(list_operators)):\n",
    "            suffix+=2**(len(parties)+suffix_operators[list_operators[i]])*inputs_voc[list_inputs[i]]\n",
    "        #print(suffix)\n",
    "    for i in range(2**len(parties)):\n",
    "        binar=bin(i+2**(len(parties)))[3:]\n",
    "        coeff = 0\n",
    "        print(binar)\n",
    "        for j in list_operators:\n",
    "            coeff+=int(binar[len(parties)-1-suffix_operators[j]])\n",
    "        e_value+=(-1)**(coeff)*p[suffix+i]\n",
    "    return e_value\n",
    "inputs = ['0','1','2']\n",
    "parties = ['A','B']\n",
    "P_pred=np.array([0.52318174, 0.06456647, 0.08200467, 0.33024713,\n",
    "                 0.45038733, 0.07953553, 0.06805175, 0.4020253 ,\n",
    "                 0.5017574 , 0.06083163,  0.08692036, 0.35049063,\n",
    "                 0.07752251, 0.4612264 , 0.39155433,  0.06969678,\n",
    "                 0.4697568 , 0.53024316, 0, 0,\n",
    "                 0.52331525, 0.47668475, 0, 0])"
   ]
  },
  {
   "cell_type": "code",
   "execution_count": 10,
   "metadata": {},
   "outputs": [],
   "source": [
    "def chsh(x):\n",
    "    vals=[0,1]\n",
    "    a=sum((-1)**(a+b)*x[a*2+b] for a in vals for b in vals)\n",
    "    b=sum((-1)**(a+b)*x[a*2+b+4] for a in vals for b in vals)\n",
    "    c=sum((-1)**(a+b)*x[a*2+b+8] for a in vals for b in vals)\n",
    "    d=sum((-1)**(a+b)*x[a*2+b+12] for a in vals for b in vals)\n",
    "    return a+b+c-d"
   ]
  },
  {
   "cell_type": "code",
   "execution_count": 11,
   "metadata": {},
   "outputs": [
    {
     "name": "stdout",
     "output_type": "stream",
     "text": [
      "00\n",
      "01\n",
      "10\n",
      "11\n",
      "00\n",
      "01\n",
      "10\n",
      "11\n",
      "00\n",
      "01\n",
      "10\n",
      "11\n",
      "00\n",
      "01\n",
      "10\n",
      "11\n",
      "00\n",
      "01\n",
      "10\n",
      "11\n",
      "2.82174056 2.82174056 0.04663050000000002\n"
     ]
    }
   ],
   "source": [
    "val=(expected_value(P_pred, 'A0B0', parties, inputs)+\n",
    "expected_value(P_pred, 'A0B1', parties, inputs)+\n",
    "expected_value(P_pred, 'A1B0', parties, inputs)-\n",
    "expected_value(P_pred, 'A1B1', parties, inputs))\n",
    "print(val, chsh(P_pred), expected_value(P_pred, 'A2B1', parties, inputs))"
   ]
  },
  {
   "cell_type": "code",
   "execution_count": 12,
   "metadata": {},
   "outputs": [
    {
     "data": {
      "text/plain": [
       "-2.8284272"
      ]
     },
     "execution_count": 12,
     "metadata": {},
     "output_type": "execute_result"
    }
   ],
   "source": [
    "p=np.array([0.07488913, 0.4285545, 0.42794433, 0.06861203, 0.06410121, 0.42656192, \n",
    "            0.42814913, 0.08118775, 0.07411963, 0.41813782, 0.43292814, 0.07481445,\n",
    "            0.59310925, 0.06043877, 0.09045572, 0.25599623])\n",
    "P_=np.array([0.0732233, 0.4267767, 0.4267767, 0.0732233, 0.0732233, 0.4267767,\n",
    "             0.4267767, 0.0732233, 0.0732233, 0.4267767, 0.4267767, 0.0732233, \n",
    "             0.5267767, 0.0732233, 0.0732233, 0.3267767])\n",
    "chsh(P_)"
   ]
  },
  {
   "cell_type": "code",
   "execution_count": 13,
   "metadata": {},
   "outputs": [
    {
     "data": {
      "text/plain": [
       "0.3910578700000001"
      ]
     },
     "execution_count": 13,
     "metadata": {},
     "output_type": "execute_result"
    }
   ],
   "source": [
    "vals=[0,1]\n",
    "prod=0\n",
    "for b in vals:\n",
    "    for y in vals:\n",
    "        prod+=abs(sum(p[a*2+b+y*4]-p[a*2+b+8+y*4] for a in vals))\n",
    "prod"
   ]
  },
  {
   "cell_type": "code",
   "execution_count": 14,
   "metadata": {},
   "outputs": [
    {
     "name": "stdout",
     "output_type": "stream",
     "text": [
      "0.026538006250000003\n",
      "-2.8227626299999997 -2.8284272\n"
     ]
    }
   ],
   "source": [
    "print(sum(abs(P_[i]-p[i]) for i in range(16))/8.)\n",
    "print(chsh(p), chsh(P_))"
   ]
  },
  {
   "cell_type": "code",
   "execution_count": 15,
   "metadata": {},
   "outputs": [
    {
     "data": {
      "text/plain": [
       "array([0.0732233, 0.4267767, 0.4267767, 0.0732233, 0.0732233, 0.4267767,\n",
       "       0.4267767, 0.0732233, 0.0732233, 0.4267767, 0.4267767, 0.0732233,\n",
       "       0.5267767, 0.0732233, 0.0732233, 0.3267767])"
      ]
     },
     "execution_count": 15,
     "metadata": {},
     "output_type": "execute_result"
    }
   ],
   "source": [
    "P_"
   ]
  },
  {
   "cell_type": "code",
   "execution_count": 16,
   "metadata": {},
   "outputs": [
    {
     "data": {
      "text/plain": [
       "{'A1A0': array([[0., 0., 0., 0., 0., 0.],\n",
       "        [0., 0., 1., 0., 0., 0.],\n",
       "        [0., 1., 0., 0., 0., 0.],\n",
       "        [0., 0., 0., 0., 0., 0.],\n",
       "        [0., 0., 0., 0., 0., 0.],\n",
       "        [0., 0., 0., 0., 0., 0.]]),\n",
       " 'A2A0': array([[0., 0., 0., 0., 0., 0.],\n",
       "        [0., 0., 0., 1., 0., 0.],\n",
       "        [0., 0., 0., 0., 0., 0.],\n",
       "        [0., 1., 0., 0., 0., 0.],\n",
       "        [0., 0., 0., 0., 0., 0.],\n",
       "        [0., 0., 0., 0., 0., 0.]]),\n",
       " 'A2A1': array([[0., 0., 0., 0., 0., 0.],\n",
       "        [0., 0., 0., 0., 0., 0.],\n",
       "        [0., 0., 0., 1., 0., 0.],\n",
       "        [0., 0., 1., 0., 0., 0.],\n",
       "        [0., 0., 0., 0., 0., 0.],\n",
       "        [0., 0., 0., 0., 0., 0.]]),\n",
       " 'B1B0': array([[0., 0., 0., 0., 0., 0.],\n",
       "        [0., 0., 0., 0., 0., 0.],\n",
       "        [0., 0., 0., 0., 0., 0.],\n",
       "        [0., 0., 0., 0., 0., 0.],\n",
       "        [0., 0., 0., 0., 0., 1.],\n",
       "        [0., 0., 0., 0., 1., 0.]])}"
      ]
     },
     "execution_count": 16,
     "metadata": {},
     "output_type": "execute_result"
    }
   ],
   "source": [
    "non_mes_diz"
   ]
  },
  {
   "cell_type": "code",
   "execution_count": null,
   "metadata": {},
   "outputs": [],
   "source": []
  }
 ],
 "metadata": {
  "kernelspec": {
   "display_name": "Python 3",
   "language": "python",
   "name": "python3"
  },
  "language_info": {
   "codemirror_mode": {
    "name": "ipython",
    "version": 3
   },
   "file_extension": ".py",
   "mimetype": "text/x-python",
   "name": "python",
   "nbconvert_exporter": "python",
   "pygments_lexer": "ipython3",
   "version": "3.8.5"
  }
 },
 "nbformat": 4,
 "nbformat_minor": 4
}
