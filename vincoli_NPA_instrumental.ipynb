{
 "cells": [
  {
   "cell_type": "code",
   "execution_count": 1,
   "metadata": {},
   "outputs": [],
   "source": [
    "import numpy as np\n",
    "import sympy as sp\n",
    "import itertools as it\n",
    "import string\n",
    "import pickle\n",
    "from tqdm import tqdm\n",
    "import time"
   ]
  },
  {
   "cell_type": "code",
   "execution_count": 2,
   "metadata": {},
   "outputs": [],
   "source": [
    "from sympy.physics.quantum import HermitianOperator, Dagger"
   ]
  },
  {
   "cell_type": "code",
   "execution_count": 3,
   "metadata": {},
   "outputs": [
    {
     "name": "stdout",
     "output_type": "stream",
     "text": [
      "0\n",
      "1\n",
      "2\n",
      "0\n",
      "1\n"
     ]
    }
   ],
   "source": [
    "part_diz = { 'A' : 3, 'B' : 2}\n",
    "parties = list(part_diz.keys())\n",
    "inputs = [part_diz[i] for i in parties]\n",
    "max_in=[str(i) for i in range(max(inputs))]\n",
    "operators=[]\n",
    "for i in list(part_diz.keys()):\n",
    "    tmp=[]\n",
    "    for l in range(part_diz[i]):\n",
    "        tmp.append(str(l))\n",
    "        print(str(l))\n",
    "    operators+=[''.join(k) for k in it.product(i, tmp, repeat = 1)]\n",
    "\n",
    "level = 1"
   ]
  },
  {
   "cell_type": "code",
   "execution_count": 4,
   "metadata": {},
   "outputs": [
    {
     "data": {
      "text/plain": [
       "['A0', 'A1', 'A2', 'B0', 'B1']"
      ]
     },
     "execution_count": 4,
     "metadata": {},
     "output_type": "execute_result"
    }
   ],
   "source": [
    "operators"
   ]
  },
  {
   "cell_type": "code",
   "execution_count": 5,
   "metadata": {},
   "outputs": [
    {
     "name": "stdout",
     "output_type": "stream",
     "text": [
      "6\n"
     ]
    }
   ],
   "source": [
    "monomial_set = []\n",
    "\n",
    "for i in range(1,level+1):   \n",
    "    \n",
    "    lev = [''.join(k) for k in it.product(operators, repeat = i)]\n",
    "    \n",
    "    #commutatività parties\n",
    "    for n in range(i-1):\n",
    "        for k in range(len(lev)):\n",
    "            for l1 in parties: \n",
    "                for l2 in parties: \n",
    "                    if l2<l1:\n",
    "                        for n1 in max_in:\n",
    "                            for n2 in max_in:\n",
    "                                if l1+n1+l2+n2 in lev[k]:\n",
    "                                    lev[k] = lev[k].replace(l1+n1+l2+n2,l2+n2+l1+n1)\n",
    "    if i == 1:\n",
    "        operators = lev.copy()\n",
    "    #unitarietà operatori\n",
    "    for p in range(len(lev)):      \n",
    "        for m in range(1,int(i/2)+1):\n",
    "            #s = [''.join(k) for k in it.product(operators, repeat = m)]\n",
    "            while any(el+el in lev[p] for el in operators):\n",
    "                for el in operators:\n",
    "                    lev[p] = lev[p].replace(el+el, '')\n",
    "                        \n",
    "    \n",
    "        \n",
    "    \n",
    "    monomial_set += lev\n",
    "monomial_set+=['']\n",
    "monomial_set = sorted(sorted(list(set(monomial_set))), key=len)\n",
    "print(len(monomial_set))"
   ]
  },
  {
   "cell_type": "code",
   "execution_count": 6,
   "metadata": {},
   "outputs": [
    {
     "data": {
      "text/plain": [
       "['', 'A0', 'A1', 'A2', 'B0', 'B1']"
      ]
     },
     "execution_count": 6,
     "metadata": {},
     "output_type": "execute_result"
    }
   ],
   "source": [
    "monomial_set"
   ]
  },
  {
   "cell_type": "code",
   "execution_count": 7,
   "metadata": {},
   "outputs": [
    {
     "name": "stdout",
     "output_type": "stream",
     "text": [
      "['', 'A0', 'A1', 'A2', 'B0', 'B1'] ['', 'A0', 'A1', 'A2', 'B0', 'B1']\n"
     ]
    }
   ],
   "source": [
    "n=2\n",
    "rev_mon_set = []\n",
    "for l in range(len(monomial_set)):\n",
    "    lista = [monomial_set[l][i:i+n] for i in range(0, len(monomial_set[l]), n)]\n",
    "    lista.reverse()\n",
    "    rev_mon_set.append(''.join(lista))\n",
    "print(rev_mon_set, monomial_set)"
   ]
  },
  {
   "cell_type": "code",
   "execution_count": 8,
   "metadata": {},
   "outputs": [],
   "source": [
    "gamma_mat = []\n",
    "for i in range(len(monomial_set)):\n",
    "    gamma_row = []\n",
    "    for j in range(i, len(rev_mon_set)):\n",
    "        gamma_row.append(rev_mon_set[j]+monomial_set[i])\n",
    "    gamma_mat.append(gamma_row)"
   ]
  },
  {
   "cell_type": "code",
   "execution_count": 9,
   "metadata": {
    "scrolled": true
   },
   "outputs": [
    {
     "name": "stderr",
     "output_type": "stream",
     "text": [
      "100%|██████████████████████████████████████████████████████████████████████████████████| 6/6 [00:00<00:00, 6006.16it/s]\n"
     ]
    }
   ],
   "source": [
    "for i in tqdm(range(len(gamma_mat))):\n",
    "    #time.sleep(0.01)\n",
    "    for j in range(len(gamma_mat[i])):\n",
    "        #print(i,j)\n",
    "#        while any(l2<l1 and l1+n1+l2+n2 in gamma_mat[i][j] for l1 in originals for l2 in originals for n1 in inputs for n2 in inputs):\n",
    "#            for l1 in originals:\n",
    "#                for l2 in originals:\n",
    "#                    if l2<l1:\n",
    "#                        for n1 in inputs:\n",
    "#                            for n2 in inputs:\n",
    "#                                gamma_mat[i][j] = gamma_mat[i][j].replace(l1+n1+l2+n2,l2+n2+l1+n1)\n",
    "        for length in range(int(len(gamma_mat[i][j])/2)-1):\n",
    "            for l1 in parties: \n",
    "                for l2 in parties: \n",
    "                    if l2<l1:\n",
    "                        for n1 in max_in:\n",
    "                            for n2 in max_in:\n",
    "                                if l1+n1+l2+n2 in gamma_mat[i][j]:\n",
    "                                    gamma_mat[i][j] = gamma_mat[i][j].replace(l1+n1+l2+n2,l2+n2+l1+n1)\n",
    "        \n",
    "              \n",
    "    \n",
    "        for m in range(1,int(len(gamma_mat[i][j])/2)+1):\n",
    "            #s = [''.join(k) for k in it.product(operators, repeat = m)]\n",
    "            while any(el+el in gamma_mat[i][j] for el in operators):\n",
    "                for el in operators:\n",
    "                    #print(gamma_mat[i][j], el+el, i,j)\n",
    "                    gamma_mat[i][j] = gamma_mat[i][j].replace(el+el, '')\n",
    "                    #print(gamma_mat[i][j])\n",
    "                    #print('***')"
   ]
  },
  {
   "cell_type": "code",
   "execution_count": 10,
   "metadata": {},
   "outputs": [],
   "source": [
    "monomial_index = {}\n",
    "for i in range(len(gamma_mat)):\n",
    "    for j in range(len(gamma_mat[i])):\n",
    "        monomial_index[gamma_mat[i][j]] = []\n",
    "\n",
    "for i in range(len(gamma_mat)):\n",
    "    for j in range(len(gamma_mat[i])):\n",
    "        monomial_index[gamma_mat[i][j]].append([i,i+j])"
   ]
  },
  {
   "cell_type": "code",
   "execution_count": 11,
   "metadata": {},
   "outputs": [],
   "source": [
    "diz_constraints = { list(monomial_index.keys())[i] : i  for i in range(len(list(monomial_index.keys())))}"
   ]
  },
  {
   "cell_type": "code",
   "execution_count": 12,
   "metadata": {},
   "outputs": [],
   "source": [
    "index_keys = list(monomial_index.keys())"
   ]
  },
  {
   "cell_type": "code",
   "execution_count": 13,
   "metadata": {},
   "outputs": [
    {
     "data": {
      "text/plain": [
       "['',\n",
       " 'A0',\n",
       " 'A1',\n",
       " 'A2',\n",
       " 'B0',\n",
       " 'B1',\n",
       " 'A1A0',\n",
       " 'A2A0',\n",
       " 'A0B0',\n",
       " 'A0B1',\n",
       " 'A2A1',\n",
       " 'A1B0',\n",
       " 'A1B1',\n",
       " 'A2B0',\n",
       " 'A2B1',\n",
       " 'B1B0']"
      ]
     },
     "execution_count": 13,
     "metadata": {},
     "output_type": "execute_result"
    }
   ],
   "source": [
    "index_keys"
   ]
  },
  {
   "cell_type": "code",
   "execution_count": 14,
   "metadata": {
    "scrolled": true
   },
   "outputs": [],
   "source": [
    "A = np.zeros([len(index_keys),len(monomial_set),len(monomial_set)])\n",
    "for i in range(len(index_keys)):\n",
    "    for j in range(len(monomial_index[index_keys[i]])):\n",
    "        A[i][monomial_index[index_keys[i]][j][0]][monomial_index[index_keys[i]][j][1]] = 1."
   ]
  },
  {
   "cell_type": "code",
   "execution_count": 15,
   "metadata": {},
   "outputs": [],
   "source": [
    "for i in range(len(index_keys)):\n",
    "    A[i]=A[i]+A[i].T"
   ]
  },
  {
   "cell_type": "code",
   "execution_count": 16,
   "metadata": {},
   "outputs": [],
   "source": [
    "filename = f'matrici_dei_constraints_instrumental_lev_{level}'\n",
    "with open(filename, 'wb') as f:\n",
    "    pickle.dump(A, f)\n",
    "filename = f'indici_dei_constraints_instrumental_lev_{level}'\n",
    "with open(filename, 'wb') as g:\n",
    "    pickle.dump(index_keys, g)"
   ]
  },
  {
   "cell_type": "code",
   "execution_count": 17,
   "metadata": {},
   "outputs": [],
   "source": [
    "filename = f'indici_dei_constraints_instrumental_lev_{level}'\n",
    "with open(filename, 'rb') as g:\n",
    "    indici_cons = pickle.load(g)\n",
    "filename = f'matrici_dei_constraints_instrumental_lev_{level}'\n",
    "with open(filename, 'rb') as f:\n",
    "    dizionario_cons = pickle.load(f)"
   ]
  },
  {
   "cell_type": "code",
   "execution_count": 18,
   "metadata": {
    "scrolled": true
   },
   "outputs": [
    {
     "data": {
      "text/plain": [
       "16"
      ]
     },
     "execution_count": 18,
     "metadata": {},
     "output_type": "execute_result"
    }
   ],
   "source": [
    "len(indici_cons)"
   ]
  },
  {
   "cell_type": "code",
   "execution_count": 19,
   "metadata": {},
   "outputs": [],
   "source": [
    "diz = { index_keys[i] : dizionario_cons[i]  for i in range(len(index_keys)) }"
   ]
  },
  {
   "cell_type": "code",
   "execution_count": 20,
   "metadata": {},
   "outputs": [
    {
     "data": {
      "text/plain": [
       "True"
      ]
     },
     "execution_count": 20,
     "metadata": {},
     "output_type": "execute_result"
    }
   ],
   "source": [
    "np.all(np.abs(diz[index_keys[i]]-diz[index_keys[i]].T) < 0.00001)"
   ]
  },
  {
   "cell_type": "code",
   "execution_count": 21,
   "metadata": {},
   "outputs": [],
   "source": [
    "for i in diz.keys():\n",
    "    if np.all(diz[i]==0):\n",
    "        print('damn')"
   ]
  },
  {
   "cell_type": "code",
   "execution_count": 22,
   "metadata": {},
   "outputs": [
    {
     "data": {
      "text/plain": [
       "[['', 'A0', 'A1', 'A2', 'B0', 'B1'],\n",
       " ['', 'A1A0', 'A2A0', 'A0B0', 'A0B1'],\n",
       " ['', 'A2A1', 'A1B0', 'A1B1'],\n",
       " ['', 'A2B0', 'A2B1'],\n",
       " ['', 'B1B0'],\n",
       " ['']]"
      ]
     },
     "execution_count": 22,
     "metadata": {},
     "output_type": "execute_result"
    }
   ],
   "source": [
    "gamma_mat"
   ]
  },
  {
   "cell_type": "code",
   "execution_count": null,
   "metadata": {},
   "outputs": [],
   "source": []
  }
 ],
 "metadata": {
  "kernelspec": {
   "display_name": "Python 3",
   "language": "python",
   "name": "python3"
  },
  "language_info": {
   "codemirror_mode": {
    "name": "ipython",
    "version": 3
   },
   "file_extension": ".py",
   "mimetype": "text/x-python",
   "name": "python",
   "nbconvert_exporter": "python",
   "pygments_lexer": "ipython3",
   "version": "3.8.5"
  }
 },
 "nbformat": 4,
 "nbformat_minor": 5
}
